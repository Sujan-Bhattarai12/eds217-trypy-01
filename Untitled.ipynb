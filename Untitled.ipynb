{
 "cells": [
  {
   "cell_type": "code",
   "execution_count": 1,
   "id": "6973cce3",
   "metadata": {},
   "outputs": [],
   "source": [
    "url = 'https://raw.githubusercontent.com/'\\\n",
    "'allisonhorst/EDS_221_programming-essentials/'\\\n",
    "'main/activities/stl_blood_lead.csv'\n",
    "\n"
   ]
  },
  {
   "cell_type": "code",
   "execution_count": 6,
   "id": "c51a6e0c",
   "metadata": {},
   "outputs": [],
   "source": [
    "import pandas as pd\n",
    "import numpy as np\n",
    "stl_lead = pd.read_csv(url)"
   ]
  },
  {
   "cell_type": "code",
   "execution_count": 5,
   "id": "fce897a9",
   "metadata": {},
   "outputs": [
    {
     "name": "stdout",
     "output_type": "stream",
     "text": [
      "           geoID  tractCE              nameLSAD  countTested  pctElevated  \\\n",
      "0    29510118100   118100     Census Tract 1181          345         9.57   \n",
      "1    29510117400   117400     Census Tract 1174          871        12.06   \n",
      "2    29510126700   126700     Census Tract 1267          458        18.12   \n",
      "3    29510119102   119102  Census Tract 1191.02          182         2.20   \n",
      "4    29510126800   126800     Census Tract 1268          486         4.73   \n",
      "..           ...      ...                   ...          ...          ...   \n",
      "101  29510102300   102300     Census Tract 1023          298         4.36   \n",
      "102  29510109700   109700     Census Tract 1097         1070        15.79   \n",
      "103  29510102400   102400     Census Tract 1024          544         8.82   \n",
      "104  29510106200   106200     Census Tract 1062         1107        11.38   \n",
      "105  29510109600   109600     Census Tract 1096          952        21.74   \n",
      "\n",
      "     totalPop  totalPop_MOE  white  white_MOE  black  black_MOE  povertyTot  \\\n",
      "0        1161           192    414        100    724        179         324   \n",
      "1        4307           447   2604        303   1338        374         615   \n",
      "2        1089           199    432        116    631        187         506   \n",
      "3        3237           309   2008        262    646        210         958   \n",
      "4        3490           231   3026        270    194         98         349   \n",
      "..        ...           ...    ...        ...    ...        ...         ...   \n",
      "101      1987           218   1840        213     35         49         351   \n",
      "102      2239           357    274        184   1949        329        1212   \n",
      "103      2673           205   2387        225    224        155         642   \n",
      "104      1825           325      9         20   1807        331        1176   \n",
      "105      3222           555     45         40   3153        548         845   \n",
      "\n",
      "     povertyTot_MOE  povertyU18  povertyU18_MOE  \n",
      "0               140         109             105  \n",
      "1               255         169             156  \n",
      "2               164          98              60  \n",
      "3               234          15              25  \n",
      "4               129          35              47  \n",
      "..              ...         ...             ...  \n",
      "101             238          92              89  \n",
      "102             331         493             211  \n",
      "103             266         274             162  \n",
      "104             341         606             239  \n",
      "105             435         391             302  \n",
      "\n",
      "[106 rows x 15 columns]\n"
     ]
    }
   ],
   "source": [
    "print(stl_lead)"
   ]
  },
  {
   "cell_type": "code",
   "execution_count": 12,
   "id": "13aa2ba2",
   "metadata": {},
   "outputs": [
    {
     "name": "stdout",
     "output_type": "stream",
     "text": [
      "              geoID        tractCE  countTested  pctElevated     totalPop  \\\n",
      "count  1.060000e+02     106.000000   106.000000   106.000000   106.000000   \n",
      "mean   2.951011e+10  113385.915094   737.367925    10.163679  2998.584906   \n",
      "std    8.132848e+03    8132.847911   414.180391     6.006316  1263.137227   \n",
      "min    2.951010e+10  101100.000000    23.000000     0.000000   620.000000   \n",
      "25%    2.951011e+10  106425.000000   411.000000     4.587500  2025.000000   \n",
      "50%    2.951011e+10  112350.000000   694.000000     9.480000  2911.500000   \n",
      "75%    2.951012e+10  119101.750000   923.250000    14.380000  3784.500000   \n",
      "max    2.951013e+10  127600.000000  2116.000000    23.280000  7069.000000   \n",
      "\n",
      "       totalPop_MOE        white   white_MOE        black   black_MOE  \\\n",
      "count    106.000000   106.000000  106.000000   106.000000  106.000000   \n",
      "mean     353.349057  1371.716981  201.377358  1429.867925  288.377358   \n",
      "std      140.297374  1293.399800  145.212649  1038.309754  148.843059   \n",
      "min       94.000000     1.000000    4.000000    35.000000   38.000000   \n",
      "25%      249.500000    88.500000   60.500000   633.250000  183.250000   \n",
      "50%      333.500000  1290.000000  212.500000  1334.500000  269.000000   \n",
      "75%      439.500000  2168.250000  299.750000  2029.000000  379.250000   \n",
      "max      832.000000  6128.000000  751.000000  4572.000000  760.000000   \n",
      "\n",
      "        povertyTot  povertyTot_MOE   povertyU18  povertyU18_MOE  \n",
      "count   106.000000      106.000000   106.000000      106.000000  \n",
      "mean    786.943396      270.500000   249.754717      140.084906  \n",
      "std     528.611313      156.111819   262.596152      107.482811  \n",
      "min     158.000000       65.000000     0.000000        3.000000  \n",
      "25%     408.500000      160.250000    66.500000       61.250000  \n",
      "50%     651.500000      241.500000   173.500000      120.500000  \n",
      "75%     955.750000      337.500000   341.750000      194.750000  \n",
      "max    2801.000000     1049.000000  1320.000000      595.000000  \n",
      "<class 'pandas.core.frame.DataFrame'>\n",
      "RangeIndex: 106 entries, 0 to 105\n",
      "Data columns (total 15 columns):\n",
      " #   Column          Non-Null Count  Dtype  \n",
      "---  ------          --------------  -----  \n",
      " 0   geoID           106 non-null    int64  \n",
      " 1   tractCE         106 non-null    int64  \n",
      " 2   nameLSAD        106 non-null    object \n",
      " 3   countTested     106 non-null    int64  \n",
      " 4   pctElevated     106 non-null    float64\n",
      " 5   totalPop        106 non-null    int64  \n",
      " 6   totalPop_MOE    106 non-null    int64  \n",
      " 7   white           106 non-null    int64  \n",
      " 8   white_MOE       106 non-null    int64  \n",
      " 9   black           106 non-null    int64  \n",
      " 10  black_MOE       106 non-null    int64  \n",
      " 11  povertyTot      106 non-null    int64  \n",
      " 12  povertyTot_MOE  106 non-null    int64  \n",
      " 13  povertyU18      106 non-null    int64  \n",
      " 14  povertyU18_MOE  106 non-null    int64  \n",
      "dtypes: float64(1), int64(13), object(1)\n",
      "memory usage: 12.5+ KB\n",
      "None\n"
     ]
    }
   ],
   "source": [
    "print(stl_lead.describe())\n",
    "print(stl_lead.info())"
   ]
  },
  {
   "cell_type": "code",
   "execution_count": 14,
   "id": "a8c5e258",
   "metadata": {},
   "outputs": [
    {
     "name": "stdout",
     "output_type": "stream",
     "text": [
      "           geoID  tractCE              nameLSAD  countTested  pctElevated  \\\n",
      "0    29510118100   118100     Census Tract 1181          345         9.57   \n",
      "1    29510117400   117400     Census Tract 1174          871        12.06   \n",
      "2    29510126700   126700     Census Tract 1267          458        18.12   \n",
      "3    29510119102   119102  Census Tract 1191.02          182         2.20   \n",
      "4    29510126800   126800     Census Tract 1268          486         4.73   \n",
      "..           ...      ...                   ...          ...          ...   \n",
      "101  29510102300   102300     Census Tract 1023          298         4.36   \n",
      "102  29510109700   109700     Census Tract 1097         1070        15.79   \n",
      "103  29510102400   102400     Census Tract 1024          544         8.82   \n",
      "104  29510106200   106200     Census Tract 1062         1107        11.38   \n",
      "105  29510109600   109600     Census Tract 1096          952        21.74   \n",
      "\n",
      "     totalPop  totalPop_MOE  white  white_MOE  black  black_MOE  povertyTot  \\\n",
      "0        1161           192    414        100    724        179         324   \n",
      "1        4307           447   2604        303   1338        374         615   \n",
      "2        1089           199    432        116    631        187         506   \n",
      "3        3237           309   2008        262    646        210         958   \n",
      "4        3490           231   3026        270    194         98         349   \n",
      "..        ...           ...    ...        ...    ...        ...         ...   \n",
      "101      1987           218   1840        213     35         49         351   \n",
      "102      2239           357    274        184   1949        329        1212   \n",
      "103      2673           205   2387        225    224        155         642   \n",
      "104      1825           325      9         20   1807        331        1176   \n",
      "105      3222           555     45         40   3153        548         845   \n",
      "\n",
      "     povertyTot_MOE  povertyU18  povertyU18_MOE  prop_white  \n",
      "0               140         109             105   35.658915  \n",
      "1               255         169             156   60.459717  \n",
      "2               164          98              60   39.669421  \n",
      "3               234          15              25   62.032746  \n",
      "4               129          35              47   86.704871  \n",
      "..              ...         ...             ...         ...  \n",
      "101             238          92              89   92.601912  \n",
      "102             331         493             211   12.237606  \n",
      "103             266         274             162   89.300412  \n",
      "104             341         606             239    0.493151  \n",
      "105             435         391             302    1.396648  \n",
      "\n",
      "[106 rows x 16 columns]\n"
     ]
    }
   ],
   "source": [
    "stl_lead[\"prop_white\"] = (stl_lead['white']/stl_lead['totalPop']) *100\n",
    "print(stl_lead)"
   ]
  },
  {
   "cell_type": "code",
   "execution_count": 15,
   "id": "007e548a",
   "metadata": {},
   "outputs": [],
   "source": [
    "#Creating a scatterplot\n",
    "import matplotlib.pyplot as  plt"
   ]
  },
  {
   "cell_type": "code",
   "execution_count": 16,
   "id": "d9d28682",
   "metadata": {},
   "outputs": [
    {
     "data": {
      "text/plain": [
       "<matplotlib.collections.PathCollection at 0x1e1a3daa620>"
      ]
     },
     "execution_count": 16,
     "metadata": {},
     "output_type": "execute_result"
    },
    {
     "data": {
      "image/png": "[encoded data removed]",
      "text/plain": [
       "<Figure size 640x480 with 1 Axes>"
      ]
     },
     "metadata": {},
     "output_type": "display_data"
    }
   ],
   "source": [
    "plt.scatter(stl_lead['prop_white'], stl_lead['pctElevated'])"
   ]
  },
  {
   "cell_type": "code",
   "execution_count": 24,
   "id": "679d5cbd",
   "metadata": {},
   "outputs": [
    {
     "data": {
      "text/plain": [
       "Text(0, 0.5, 'Percentage elevated')"
      ]
     },
     "execution_count": 24,
     "metadata": {},
     "output_type": "execute_result"
    },
    {
     "data": {
      "image/png": "[encoded data removed]",
      "text/plain": [
       "<Figure size 1000x700 with 1 Axes>"
      ]
     },
     "metadata": {},
     "output_type": "display_data"
    }
   ],
   "source": [
    "##create the histogram\n",
    "fig, ax = plt.subplots(figsize =(10, 7))\n",
    "ax.hist(stl_lead['pctElevated'], color = \"lightblue\", ec=\"green\")\n",
    "plt.xlabel(\"Frequency\")\n",
    "plt.ylabel(\"Percentage elevated\")\n",
    "\n"
   ]
  },
  {
   "cell_type": "code",
   "execution_count": null,
   "id": "5ed4a509",
   "metadata": {},
   "outputs": [],
   "source": []
  }
 ],
 "metadata": {
  "kernelspec": {
   "display_name": "Python (eds217_2023)",
   "language": "python",
   "name": "eds217_2023"
  },
  "language_info": {
   "codemirror_mode": {
    "name": "ipython",
    "version": 3
   },
   "file_extension": ".py",
   "mimetype": "text/x-python",
   "name": "python",
   "nbconvert_exporter": "python",
   "pygments_lexer": "ipython3",
   "version": "3.10.12"
  }
 },
 "nbformat": 4,
 "nbformat_minor": 5
}
